{
 "cells": [
  {
   "cell_type": "markdown",
   "metadata": {},
   "source": [
    "# Navigation\n",
    "\n",
    "---\n",
    "\n",
    "This project demonstrates how to train an agent to navigate and collect bananas in a large, square world, using Deep Reinforcement Learning. \n",
    "\n",
    "## A. Examining the Environment\n",
    "\n",
    "### A.1. Start the Environment\n",
    "\n",
    "We begin by importing some necessary packages.  If the code cell below returns an error, please revisit the project instructions to double-check that you have installed [Unity ML-Agents](https://github.com/Unity-Technologies/ml-agents/blob/master/docs/Installation.md) and [NumPy](http://www.numpy.org/)."
   ]
  },
  {
   "cell_type": "code",
   "execution_count": 1,
   "metadata": {},
   "outputs": [],
   "source": [
    "from unityagents import UnityEnvironment\n",
    "import numpy as np"
   ]
  },
  {
   "cell_type": "markdown",
   "metadata": {},
   "source": [
    "Next, we will start the environment!  **_Before running the code cell below_**, change the `file_name` parameter to match the location of the Unity environment that you downloaded.\n",
    "\n",
    "- **Mac**: `\"path/to/Banana.app\"`\n",
    "- **Windows** (x86): `\"path/to/Banana_Windows_x86/Banana.exe\"`\n",
    "- **Windows** (x86_64): `\"path/to/Banana_Windows_x86_64/Banana.exe\"`\n",
    "- **Linux** (x86): `\"path/to/Banana_Linux/Banana.x86\"`\n",
    "- **Linux** (x86_64): `\"path/to/Banana_Linux/Banana.x86_64\"`\n",
    "- **Linux** (x86, headless): `\"path/to/Banana_Linux_NoVis/Banana.x86\"`\n",
    "- **Linux** (x86_64, headless): `\"path/to/Banana_Linux_NoVis/Banana.x86_64\"`\n",
    "\n",
    "For instance, if you are using a Mac, then you downloaded `Banana.app`.  If this file is in the same folder as the notebook, then the line below should appear as follows:\n",
    "```\n",
    "env = UnityEnvironment(file_name=\"Banana.app\")\n",
    "```"
   ]
  },
  {
   "cell_type": "code",
   "execution_count": 2,
   "metadata": {
    "scrolled": true
   },
   "outputs": [
    {
     "name": "stderr",
     "output_type": "stream",
     "text": [
      "INFO:unityagents:\n",
      "'Academy' started successfully!\n",
      "Unity Academy name: Academy\n",
      "        Number of Brains: 1\n",
      "        Number of External Brains : 1\n",
      "        Lesson number : 0\n",
      "        Reset Parameters :\n",
      "\t\t\n",
      "Unity brain name: BananaBrain\n",
      "        Number of Visual Observations (per agent): 0\n",
      "        Vector Observation space type: continuous\n",
      "        Vector Observation space size (per agent): 37\n",
      "        Number of stacked Vector Observation: 1\n",
      "        Vector Action space type: discrete\n",
      "        Vector Action space size (per agent): 4\n",
      "        Vector Action descriptions: , , , \n"
     ]
    }
   ],
   "source": [
    "env = UnityEnvironment(file_name=\"./Banana_Linux/Banana.x86_64\")"
   ]
  },
  {
   "cell_type": "markdown",
   "metadata": {},
   "source": [
    "Environments contain **_brains_** which are responsible for deciding the actions of their associated agents. Here we check for the first brain available, and set it as the default brain we will be controlling from Python."
   ]
  },
  {
   "cell_type": "code",
   "execution_count": 3,
   "metadata": {},
   "outputs": [],
   "source": [
    "# get the default brain\n",
    "brain_name = env.brain_names[0]\n",
    "brain = env.brains[brain_name]"
   ]
  },
  {
   "cell_type": "markdown",
   "metadata": {},
   "source": [
    "### A.2. Examine the State and Action Spaces\n",
    "\n",
    "The simulation contains a single agent that navigates a large environment.  At each time step, it has four actions at its disposal:\n",
    "- `0` - walk forward \n",
    "- `1` - walk backward\n",
    "- `2` - turn left\n",
    "- `3` - turn right\n",
    "\n",
    "The state space has `37` dimensions and contains the agent's velocity, along with ray-based perception of objects around agent's forward direction.  A reward of `+1` is provided for collecting a yellow banana, and a reward of `-1` is provided for collecting a blue banana. \n",
    "\n",
    "Run the code cell below to print some information about the environment."
   ]
  },
  {
   "cell_type": "code",
   "execution_count": 4,
   "metadata": {},
   "outputs": [
    {
     "name": "stdout",
     "output_type": "stream",
     "text": [
      "Number of agents: 1\n",
      "Number of actions: 4\n",
      "States look like: [1.         0.         0.         0.         0.84408134 0.\n",
      " 0.         1.         0.         0.0748472  0.         1.\n",
      " 0.         0.         0.25755    1.         0.         0.\n",
      " 0.         0.74177343 0.         1.         0.         0.\n",
      " 0.25854847 0.         0.         1.         0.         0.09355672\n",
      " 0.         1.         0.         0.         0.31969345 0.\n",
      " 0.        ]\n",
      "States have length: 37\n"
     ]
    }
   ],
   "source": [
    "# reset the environment\n",
    "env_info = env.reset(train_mode=True)[brain_name]\n",
    "\n",
    "# number of agents in the environment\n",
    "print('Number of agents:', len(env_info.agents))\n",
    "\n",
    "# number of actions\n",
    "action_size = brain.vector_action_space_size\n",
    "print('Number of actions:', action_size)\n",
    "\n",
    "# examine the state space \n",
    "state = env_info.vector_observations[0]\n",
    "print('States look like:', state)\n",
    "state_size = len(state)\n",
    "print('States have length:', state_size)"
   ]
  },
  {
   "cell_type": "markdown",
   "metadata": {},
   "source": [
    "### A.3. Take Random Actions in the Environment\n",
    "\n",
    "In the next code cell, you will learn how to use the Python API to control the agent and receive feedback from the environment.\n",
    "\n",
    "Once this cell is executed, you will watch the agent's performance, if it selects an action (uniformly) at random with each time step.  A window should pop up that allows you to observe the agent, as it moves through the environment.  \n",
    "\n",
    "Of course, as part of the project, you'll have to change the code so that the agent is able to use its experience to gradually choose better actions when interacting with the environment!"
   ]
  },
  {
   "cell_type": "code",
   "execution_count": 5,
   "metadata": {},
   "outputs": [
    {
     "name": "stdout",
     "output_type": "stream",
     "text": [
      "Score: 0.0\n"
     ]
    }
   ],
   "source": [
    "env_info = env.reset(train_mode=False)[brain_name] # reset the environment\n",
    "state = env_info.vector_observations[0]            # get the current state\n",
    "score = 0                                          # initialize the score\n",
    "while True:\n",
    "    action = np.random.randint(action_size)        # select an action\n",
    "    env_info = env.step(action)[brain_name]        # send the action to the environment\n",
    "    next_state = env_info.vector_observations[0]   # get the next state\n",
    "    reward = env_info.rewards[0]                   # get the reward\n",
    "    done = env_info.local_done[0]                  # see if episode has finished\n",
    "    score += reward                                # update the score\n",
    "    state = next_state                             # roll over the state to next time step\n",
    "    if done:                                       # exit loop if episode finished\n",
    "        break\n",
    "    \n",
    "print(\"Score: {}\".format(score))"
   ]
  },
  {
   "cell_type": "markdown",
   "metadata": {},
   "source": [
    "## B. Training the Agent\n",
    "\n",
    "We now use The Deep Q Network Reinforcement learning algorithm to train an agent on how to maximize the agent's overall accumalative reward."
   ]
  },
  {
   "cell_type": "code",
   "execution_count": 6,
   "metadata": {},
   "outputs": [],
   "source": [
    "import random\n",
    "import torch\n",
    "from collections import deque\n",
    "import matplotlib.pyplot as plt\n",
    "%matplotlib inline"
   ]
  },
  {
   "cell_type": "markdown",
   "metadata": {},
   "source": [
    "### B.2. Reset the Environment for Training\n",
    "\n",
    "Initialize the environment by resetting it in the code cell below. Note that the `train_mode` parameter is set to `True`."
   ]
  },
  {
   "cell_type": "code",
   "execution_count": 7,
   "metadata": {},
   "outputs": [],
   "source": [
    "env_info = env.reset(train_mode=True)[brain_name]"
   ]
  },
  {
   "cell_type": "markdown",
   "metadata": {},
   "source": [
    "### B.3. Train the Agent with DQN\n",
    "\n",
    "Our agent will utilize the DQN algorithm to approximate the optimal action-values across a set of episodes. The following gives a quick overview on the algorithm.\n",
    "\n",
    "#### B.3.1 The DQN Algorithm\n",
    "\n",
    "The Deep Q-Network Algorithm was published in the paper \"Human-level control through deep reinforcement learning\", by Google DeepMind researchers ([link](https://storage.googleapis.com/deepmind-media/dqn/DQNNaturePaper.pdf)). The algorithm attempted to fix previous problems with estimating action-values, mainly instability using two techniques: \n",
    "1. Experience Replay, a technique aiming at averaging the behaviour distribution and avoiding oscillations and extreme divergence in action values in any experience sequence. By replaying a batch of experience tuples in random order it achieves decorrelation when learning. Experience replay thus can potentially use an experience tuple multiple times in weight updates due to averaging, and overall makes better use of experience whether that be frequently experienced action values, or rare occuring experiences.\n",
    "2. Fixed Q-Targets, uses a fixed network from the previous update step to compute the losses against during learning. This helps convergence as without it, the weight update is optimizating for an ever moving target.\n",
    "\\\\[ \\Delta w = \\alpha \\left[ R + \\gamma \\max_\\alpha \\hat{q}_{} (S', a, w^- ) - q(S, A, w) \\right] \\nabla_w q(S, A, w) \\\\] In the update step above, the target weights $w^-$, is fixed across the learning phase, and updated in the next batch. Note: the update step is slightly different from the one in the paper in terms of notation. \n",
    "\n",
    "An overview of the DQN algorithm is shown next.\n",
    "\n",
    "The DQN algorithm has an initialization step, where we initialize the replay buffer $D$, set of weights $w$ and $w^-$.\n",
    "\n",
    "Next, we repeat the next two steps alternating, till either a stopping condition is met, or we run out of training episodes:\n",
    "1. Sample the environment: observe our current state, perform an action, then observe the reward and next state. We store this experience tuple in a replay memory. \n",
    "2. Learn: We select a small batch of experience tuples from the replay memory in random order. We learn from that batch using a gradient descent update step.\n",
    "\n",
    "The algorithm is described in more details in the paper, under the \"Methods\" section. \n",
    "\n",
    "#### B.3.1 The DQN Architecture\n",
    "\n",
    "The original DQN algorithm had a network architecture of two convolution layers, with ReLU activation, which were feeded a 84x84x4 square grayscale image sequence preprocessed from the Atari 2600 games. Those two convolution layers were then connected to three fully connected Linear layers, also with ReLU activation. The first fully connected layer takes as input the states, while the last layer representing the action-values.\n",
    "\n",
    "Since in our example, we do not process pixels as the Deepmind agent did -- the experience tuples are already provided -- our architecture consists of only the last fully connected layers of the original DQN algorithm.\n",
    "So for this example, The dimention of the first linear fully connected layer is 37, the dimension of the hidden layer is 64, the dimension of the output layer is 4.\n",
    "\n",
    "#### B.3.2. DQN Hyperparameters\n",
    "\n",
    "`state_size = 37`: Number of possible states for the agent.  \n",
    "`action_size = 4`: Number of possible actions taken by the agent.  \n",
    "`fc1_nodes = 64`: Dimension of the hidden fully connected layer.  \n",
    "`n_episodes = 2000`: maximum number of training episodes.  \n",
    "`max_t = 1000`: maximum number of timesteps per episode.  \n",
    "`eps_start = 1.0`: starting value of epsilon, for epsilon-greedy action selection.  \n",
    "`eps_end = 0.01`: minimum value of epsilon.  \n",
    "`eps_decay = 0.995`: multiplicative factor (per episode) for decreasing epsilon.  \n",
    "`req_score = 13.0`: required average score for the agent before stopping to learn.  \n",
    "`BUFFER_SIZE = 10e5`:  replay buffer size.  \n",
    "`BATCH_SIZE = 64`: minibatch size.\n",
    "$\\gamma$ = 0.99: discount factor.  \n",
    "$\\tau$ = 1e-3: for soft update of target parameters. i.e., $w_{target} = \\tau w_{local} + (1 - \\tau) w_{target}$\n",
    "`LR = 5e-4`: learning rate.  \n",
    "`UPDATE_EVERY = 4`: how often to update the network.  \n",
    "\n",
    "#### B.3.3. DQN Implementation\n",
    "\n",
    "The implementation for the DQN agent can be found in two files: `dqn_agent.py` and `model.py`.\n",
    "\n",
    "- `model.py` Defines a neural network architecture in that maps states to action values.\n",
    "- `dqn_agent.py` Defines the classes `Agent` and `ReplayBuffer`.\n",
    "\n",
    "We instantiate an `Agent` in the below cell."
   ]
  },
  {
   "cell_type": "code",
   "execution_count": 8,
   "metadata": {},
   "outputs": [],
   "source": [
    "from dqn_agent import Agent\n",
    "\n",
    "agent = Agent(state_size=37, action_size=4, seed=0)"
   ]
  },
  {
   "cell_type": "markdown",
   "metadata": {},
   "source": [
    "We now define the DQN function which utilizes the `Agent`, `ReplayBuffer` and `QNetwork` classes.  You are welcome to amend the supplied values of the parameters in the function, to try to see if you can get better performance!"
   ]
  },
  {
   "cell_type": "code",
   "execution_count": 9,
   "metadata": {},
   "outputs": [],
   "source": [
    "def dqn(n_episodes=2000, max_t=1000, eps_start=1.0, eps_end=0.01, eps_decay=0.995, req_score=13.0):\n",
    "    \"\"\"Deep Q-Learning.\n",
    "    \n",
    "    Params\n",
    "    ======\n",
    "        n_episodes (int): maximum number of training episodes\n",
    "        max_t (int): maximum number of timesteps per episode\n",
    "        eps_start (float): starting value of epsilon, for epsilon-greedy action selection\n",
    "        eps_end (float): minimum value of epsilon\n",
    "        eps_decay (float): multiplicative factor (per episode) for decreasing epsilon\n",
    "        req_score (float): required average score for the agent before stopping to learn\n",
    "    \"\"\"\n",
    "    scores = []                        # list containing scores from each episode\n",
    "    scores_window = deque(maxlen=100)  # last 100 scores\n",
    "    eps = eps_start                    # initialize epsilon\n",
    "    for i_episode in range(1, n_episodes+1):\n",
    "        env_info = env.reset(train_mode=True)[brain_name]\n",
    "        state = env_info.vector_observations[0]\n",
    "        score = 0\n",
    "        for t in range(max_t):\n",
    "            action = agent.act(state, eps)\n",
    "            env_info = env.step(action)[brain_name]        # send the action to the environment\n",
    "            next_state = env_info.vector_observations[0]   # Now get next state \n",
    "            reward = env_info.rewards[0]                   # ... and reward ...\n",
    "            done = env_info.local_done[0]                  # are we done?\n",
    "            agent.step(state, action, reward, next_state, done)\n",
    "            state = next_state\n",
    "            score += reward\n",
    "            if done:\n",
    "                break \n",
    "        scores_window.append(score)       # save most recent score\n",
    "        scores.append(score)              # save most recent score\n",
    "        eps = max(eps_end, eps_decay*eps) # decrease epsilon\n",
    "        print('\\rEpisode {}\\tAverage Score: {:.2f}'.format(i_episode, np.mean(scores_window)), end=\"\")\n",
    "        if i_episode % 100 == 0:\n",
    "            print('\\rEpisode {}\\tAverage Score: {:.2f}'.format(i_episode, np.mean(scores_window)))\n",
    "        if np.mean(scores_window) >= req_score:\n",
    "            print('\\nEnvironment solved in {:d} episodes!\\tAverage Score: {:.2f}'.format(i_episode-100, np.mean(scores_window)))\n",
    "            torch.save(agent.qnetwork_local.state_dict(), 'checkpoint.pth')\n",
    "            break\n",
    "    return scores\n"
   ]
  },
  {
   "cell_type": "markdown",
   "metadata": {},
   "source": [
    "We now train the agent aiming at an average score of +14. Run the code cell below to train the agent from scratch."
   ]
  },
  {
   "cell_type": "code",
   "execution_count": 10,
   "metadata": {},
   "outputs": [
    {
     "name": "stdout",
     "output_type": "stream",
     "text": [
      "Episode 100\tAverage Score: 1.16\n",
      "Episode 200\tAverage Score: 4.80\n",
      "Episode 300\tAverage Score: 8.16\n",
      "Episode 400\tAverage Score: 10.60\n",
      "Episode 500\tAverage Score: 12.65\n",
      "Episode 592\tAverage Score: 14.06\n",
      "Environment solved in 492 episodes!\tAverage Score: 14.06\n"
     ]
    },
    {
     "data": {
      "image/png": "[encoded data removed]",
      "text/plain": [
       "<Figure size 432x288 with 1 Axes>"
      ]
     },
     "metadata": {
      "needs_background": "light"
     },
     "output_type": "display_data"
    }
   ],
   "source": [
    "scores = dqn(req_score=14.0)\n",
    "\n",
    "# plot the scores\n",
    "fig = plt.figure()\n",
    "ax = fig.add_subplot(111)\n",
    "plt.plot(np.arange(len(scores)), scores)\n",
    "plt.ylabel('Score')\n",
    "plt.xlabel('Episode #')\n",
    "plt.show()"
   ]
  },
  {
   "cell_type": "markdown",
   "metadata": {},
   "source": [
    "### 4. Watch a Smart Agent!\n",
    "\n",
    "In the next code cell, you will load the trained weights from file to watch a smart agent!"
   ]
  },
  {
   "cell_type": "code",
   "execution_count": 11,
   "metadata": {},
   "outputs": [
    {
     "name": "stdout",
     "output_type": "stream",
     "text": [
      "Episode 1\tScore: 16.00\n",
      "Episode 2\tScore: 18.00\n",
      "Episode 3\tScore: 15.00\n",
      "Episode 4\tScore: 15.00\n",
      "Episode 5\tScore: 20.00\n"
     ]
    }
   ],
   "source": [
    "# load the weights from file\n",
    "agent.qnetwork_local.load_state_dict(torch.load('checkpoint.pth'))\n",
    "\n",
    "for i in range(5):\n",
    "    env_info = env.reset(train_mode=False)[brain_name]\n",
    "    state = env_info.vector_observations[0]\n",
    "    score = 0\n",
    "    for j in range(1000):\n",
    "        action = agent.act(state)\n",
    "        env_info = env.step(action)[brain_name]        # send the action to the environment\n",
    "        next_state = env_info.vector_observations[0]   # Now get next state \n",
    "        reward = env_info.rewards[0]                   # ... and reward ...\n",
    "        done = env_info.local_done[0]                  # are we done?\n",
    "        agent.step(state, action, reward, next_state, done)\n",
    "        state = next_state\n",
    "        score += reward\n",
    "        if done:\n",
    "            break\n",
    "    \n",
    "    print('\\rEpisode {}\\tScore: {:.2f}'.format(i+1, score))\n"
   ]
  },
  {
   "cell_type": "markdown",
   "metadata": {},
   "source": [
    "We can now close the environment."
   ]
  },
  {
   "cell_type": "code",
   "execution_count": 12,
   "metadata": {},
   "outputs": [],
   "source": [
    "env.close()"
   ]
  },
  {
   "cell_type": "markdown",
   "metadata": {},
   "source": [
    "### 5. Outlook for Improvement\n",
    "\n",
    "There have been several suggested improvements over the original Deep Q Network algorithm. \n",
    "\n",
    " * Double DQN ([link](https://arxiv.org/abs/1509.06461)), which attempts to resolve overestimations of Q-values in normal DQN.\n",
    " * Prioritized Experience Replay ([link](https://arxiv.org/abs/1511.05952)), a technique to prioritize experience, so as to replay important transitions more frequently, and therefore learn more efficiently instead of using a uniformly sampled replay buffer -- the latter which replays transitions at the same frequency in which they were experienced.\n",
    " * Dueling DQN ([link](https://arxiv.org/abs/1511.06581)), which introduced a network similar in architecture, but instead of action-value approximation, it provides two separate estimators: 1. the state value function and, 2. the state-dependent action advantage function. The benefit of this factoring is to generalize learning across actions without imposing any change to the underlying reinforcement learning algorithm.\n",
    " * Learning from multistep bootstrap targets, as in A3C ([link](https://arxiv.org/abs/1602.01783)).\n",
    " * Distributional DQN ([link](https://arxiv.org/abs/1707.06887)).\n",
    " * Noisy DQN ([link](https://arxiv.org/abs/1706.10295)).\n",
    " \n",
    "While each of the above six improvements aimed as specific yet different issues, researchers at Google Deepmind combined the above into an algorithm called Rainbow ([link](https://arxiv.org/abs/1710.02298)) and showed that it outperformed them when tested together on Atari 2600 games."
   ]
  }
 ],
 "metadata": {
  "kernelspec": {
   "display_name": "drlnd",
   "language": "python",
   "name": "drlnd"
  },
  "language_info": {
   "codemirror_mode": {
    "name": "ipython",
    "version": 3
   },
   "file_extension": ".py",
   "mimetype": "text/x-python",
   "name": "python",
   "nbconvert_exporter": "python",
   "pygments_lexer": "ipython3",
   "version": "3.6.10"
  }
 },
 "nbformat": 4,
 "nbformat_minor": 2
}
